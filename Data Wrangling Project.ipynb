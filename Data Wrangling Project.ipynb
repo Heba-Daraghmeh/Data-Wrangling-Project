{
 "cells": [
  {
   "cell_type": "markdown",
   "id": "c0966b5f",
   "metadata": {},
   "source": [
    "# Analyzing the Deals and Leads information of Olist store leads\n",
    "\n",
    "## Table of Content\n",
    "<ul>\n",
    "    <li> <a href='#gather'> 1. Gather data </a></li>\n",
    "        <ul> <a href='#prob'> 1.1 Problem Statement </a> </ul>\n",
    "        <ul> <a href='#gather2'> 1.2 Gathering the datasets </a> </ul>\n",
    "    <li> <a href='#assess'> 2. Data Wrangling </a></li>\n",
    "    <li> <a href='#clean'> 3. Clean data </a> </li>\n",
    "        <ul><a href='#clean1'> 3.1 cleaning deals data </a></ul>\n",
    "        <ul><a href='#clean2'> 3.2 cleaning leads data </a></ul>\n",
    "        <ul><a href='#clean3'> 3.3 Combine datasets</a></ul>\n",
    "    <li> <a href='#update'> 4. Update the data store </a> </li>\n",
    "    <li> <a href='#ans'> 5. Answer the research question </a> </li>\n",
    "    <li> <a href='#fut'> 6. Future Work </a> </li>\n",
    "<ul>"
   ]
  },
  {
   "cell_type": "markdown",
   "id": "845dd874",
   "metadata": {},
   "source": [
    "<a id='gather'></a>\n",
    "## 1. Gather data"
   ]
  },
  {
   "cell_type": "code",
   "execution_count": 1,
   "id": "b5fe1819",
   "metadata": {},
   "outputs": [],
   "source": [
    "import pandas as pd\n",
    "import requests\n",
    "import os\n",
    "import kaggle\n",
    "import matplotlib.pyplot as plt\n",
    "\n",
    "import warnings\n",
    "warnings.filterwarnings(\"ignore\")"
   ]
  },
  {
   "cell_type": "markdown",
   "id": "6d310d86",
   "metadata": {},
   "source": [
    "<a id='prob'></a>\n",
    "### **1.1.** Problem Statement\n",
    "Analyzing the deals with leads at Olist store. To answer the question **does the leads of Olist store has big qualifications like copmanies and (GTIN) Global Trade Item Number?**\n",
    "\n",
    "To answer this question I well get two data sets the first one **Olist closed deals datasets**, it contains the information about the deals, and the second dataset **Olist marketing qualified leads dataset**, it contains the information about the leads qualified to deal with Olist store.\n",
    "\n",
    "Combining these datasets will help me do better analyzing and exploring of the deals and leads information."
   ]
  },
  {
   "cell_type": "markdown",
   "id": "444d58b7",
   "metadata": {},
   "source": [
    "<a id='gather2'></a>\n",
    "### **1.2.** Gathering the datasets"
   ]
  },
  {
   "cell_type": "markdown",
   "id": "640d5991",
   "metadata": {},
   "source": [
    "### **Dataset 1**\n",
    "\n",
    "- **Name:** Olist Closed Deals Dataset\n",
    "- **Describtion:** The dataset contains the information of the deals with the leads, these information will help us analyzing the leads dealing with Olist.\n",
    "- **Source:** [Kaggle](https://www.kaggle.com/datasets/olistbr/marketing-funnel-olist?select=olist_closed_deals_dataset.csv)\n",
    "- **Type:** CSV File.\n",
    "- **Method:** The data was gathered using the \"Downloading files\" method from Kaggle website.\n",
    "\n",
    "### **Dataset variables:**\n",
    "\n",
    "* *mql_id:* : Marketing Qualified Lead id.\n",
    "* *seller_id:* Seller id.\n",
    "* *sdr_id:* Sales Development Representative id.\n",
    "* *sr_id\"* Sales Representative\n",
    "* *won_date:* Date the deal was closed.\n",
    "* *business_segment:* Lead business segment. Informed on contact.\n",
    "* *lead_type:* Lead type. Informed on contact.\n",
    "* *lead_behaviour_profile:* Lead behaviour profile. SDR identify it on contact.\n",
    "* *has_company:* Does the lead have a company (formal documentation)?\n",
    "* *has_gtin:* Does the lead have Global Trade Item Number (barcode) for his products?\n",
    "* *average_stock:* Lead declared average stock. Informed on contact.\n",
    "* *business_type:* Type of business (reseller/manufacturer etc.)\n",
    "* *declared_product_catalog_size:* Lead declared catalog size. Informed on contact.\n",
    "* *declared_monthly_revenue:* Lead declared estimated monthly revenue. Informed on contact."
   ]
  },
  {
   "cell_type": "code",
   "execution_count": 2,
   "id": "01a99ffa",
   "metadata": {},
   "outputs": [],
   "source": [
    "# Reading the first dataset and setting the first colom as the index\n",
    "\n",
    "deals = pd.read_csv('olist_closed_deals_dataset.csv')"
   ]
  },
  {
   "cell_type": "markdown",
   "id": "76087fee",
   "metadata": {},
   "source": [
    "### **Dataset 2** \n",
    "\n",
    "- **Name:** olist marketing qualified leads dataset\n",
    "- **Describtion:** The dataset contains the Marketing Qualified Leads (MQLs), the ones that are qualified to sell their products at Olist.\n",
    "- **Source:** [Kaggle](https://www.kaggle.com/datasets/olistbr/marketing-funnel-olist?select=olist_marketing_qualified_leads_dataset.csv)\n",
    "- **Type:** CSV File.\n",
    "- **Method:** The data was gathered  via the Kaggle API.\n",
    "\n",
    "### Dataset variables:\n",
    "\n",
    "* *mql_id:* Marketing Qualified Lead id\n",
    "* *first_contact_date:* Date of the first contact solicitation.\n",
    "* *landing_page_id:* Landing page id where the lead was acquired\n",
    "* *origin:* Type of media where the lead was acquired"
   ]
  },
  {
   "cell_type": "code",
   "execution_count": 3,
   "id": "f9ef8710",
   "metadata": {},
   "outputs": [
    {
     "name": "stdout",
     "output_type": "stream",
     "text": [
      "Dataset URL: https://www.kaggle.com/datasets/olistbr/marketing-funnel-olist\n"
     ]
    },
    {
     "data": {
      "text/plain": [
       "True"
      ]
     },
     "execution_count": 3,
     "metadata": {},
     "output_type": "execute_result"
    }
   ],
   "source": [
    "# Get the dataset using API\n",
    "dataset_id = 'olistbr/marketing-funnel-olist'\n",
    "file_name = 'olist_marketing_qualified_leads_dataset.csv'\n",
    "\n",
    "kaggle.api.dataset_download_file(dataset_id, file_name=file_name, path='.', force=True)"
   ]
  },
  {
   "cell_type": "code",
   "execution_count": 4,
   "id": "c537d720",
   "metadata": {},
   "outputs": [],
   "source": [
    "# Reading the second dataset and setting the first colom as the index\n",
    "\n",
    "leads = pd.read_csv('olist_marketing_qualified_leads_dataset.csv')"
   ]
  },
  {
   "cell_type": "markdown",
   "id": "caa969eb",
   "metadata": {},
   "source": [
    "<a id='assess'></a>\n",
    "## 2. Assess data"
   ]
  },
  {
   "cell_type": "markdown",
   "id": "1e4ea817",
   "metadata": {},
   "source": [
    "### Quality Issue 1:"
   ]
  },
  {
   "cell_type": "code",
   "execution_count": 5,
   "id": "504c1f2e",
   "metadata": {},
   "outputs": [
    {
     "data": {
      "text/html": [
       "<div>\n",
       "<style scoped>\n",
       "    .dataframe tbody tr th:only-of-type {\n",
       "        vertical-align: middle;\n",
       "    }\n",
       "\n",
       "    .dataframe tbody tr th {\n",
       "        vertical-align: top;\n",
       "    }\n",
       "\n",
       "    .dataframe thead th {\n",
       "        text-align: right;\n",
       "    }\n",
       "</style>\n",
       "<table border=\"1\" class=\"dataframe\">\n",
       "  <thead>\n",
       "    <tr style=\"text-align: right;\">\n",
       "      <th></th>\n",
       "      <th>mql_id</th>\n",
       "      <th>seller_id</th>\n",
       "      <th>sdr_id</th>\n",
       "      <th>sr_id</th>\n",
       "      <th>won_date</th>\n",
       "      <th>business_segment</th>\n",
       "      <th>lead_type</th>\n",
       "      <th>lead_behaviour_profile</th>\n",
       "      <th>has_company</th>\n",
       "      <th>has_gtin</th>\n",
       "      <th>average_stock</th>\n",
       "      <th>business_type</th>\n",
       "      <th>declared_product_catalog_size</th>\n",
       "      <th>declared_monthly_revenue</th>\n",
       "    </tr>\n",
       "  </thead>\n",
       "  <tbody>\n",
       "    <tr>\n",
       "      <th>0</th>\n",
       "      <td>5420aad7fec3549a85876ba1c529bd84</td>\n",
       "      <td>2c43fb513632d29b3b58df74816f1b06</td>\n",
       "      <td>a8387c01a09e99ce014107505b92388c</td>\n",
       "      <td>4ef15afb4b2723d8f3d81e51ec7afefe</td>\n",
       "      <td>2018-02-26 19:58:54</td>\n",
       "      <td>pet</td>\n",
       "      <td>online_medium</td>\n",
       "      <td>cat</td>\n",
       "      <td>NaN</td>\n",
       "      <td>NaN</td>\n",
       "      <td>NaN</td>\n",
       "      <td>reseller</td>\n",
       "      <td>NaN</td>\n",
       "      <td>0.0</td>\n",
       "    </tr>\n",
       "    <tr>\n",
       "      <th>1</th>\n",
       "      <td>a555fb36b9368110ede0f043dfc3b9a0</td>\n",
       "      <td>bbb7d7893a450660432ea6652310ebb7</td>\n",
       "      <td>09285259593c61296eef10c734121d5b</td>\n",
       "      <td>d3d1e91a157ea7f90548eef82f1955e3</td>\n",
       "      <td>2018-05-08 20:17:59</td>\n",
       "      <td>car_accessories</td>\n",
       "      <td>industry</td>\n",
       "      <td>eagle</td>\n",
       "      <td>NaN</td>\n",
       "      <td>NaN</td>\n",
       "      <td>NaN</td>\n",
       "      <td>reseller</td>\n",
       "      <td>NaN</td>\n",
       "      <td>0.0</td>\n",
       "    </tr>\n",
       "    <tr>\n",
       "      <th>2</th>\n",
       "      <td>327174d3648a2d047e8940d7d15204ca</td>\n",
       "      <td>612170e34b97004b3ba37eae81836b4c</td>\n",
       "      <td>b90f87164b5f8c2cfa5c8572834dbe3f</td>\n",
       "      <td>6565aa9ce3178a5caf6171827af3a9ba</td>\n",
       "      <td>2018-06-05 17:27:23</td>\n",
       "      <td>home_appliances</td>\n",
       "      <td>online_big</td>\n",
       "      <td>cat</td>\n",
       "      <td>NaN</td>\n",
       "      <td>NaN</td>\n",
       "      <td>NaN</td>\n",
       "      <td>reseller</td>\n",
       "      <td>NaN</td>\n",
       "      <td>0.0</td>\n",
       "    </tr>\n",
       "    <tr>\n",
       "      <th>3</th>\n",
       "      <td>f5fee8f7da74f4887f5bcae2bafb6dd6</td>\n",
       "      <td>21e1781e36faf92725dde4730a88ca0f</td>\n",
       "      <td>56bf83c4bb35763a51c2baab501b4c67</td>\n",
       "      <td>d3d1e91a157ea7f90548eef82f1955e3</td>\n",
       "      <td>2018-01-17 13:51:03</td>\n",
       "      <td>food_drink</td>\n",
       "      <td>online_small</td>\n",
       "      <td>NaN</td>\n",
       "      <td>NaN</td>\n",
       "      <td>NaN</td>\n",
       "      <td>NaN</td>\n",
       "      <td>reseller</td>\n",
       "      <td>NaN</td>\n",
       "      <td>0.0</td>\n",
       "    </tr>\n",
       "    <tr>\n",
       "      <th>4</th>\n",
       "      <td>ffe640179b554e295c167a2f6be528e0</td>\n",
       "      <td>ed8cb7b190ceb6067227478e48cf8dde</td>\n",
       "      <td>4b339f9567d060bcea4f5136b9f5949e</td>\n",
       "      <td>d3d1e91a157ea7f90548eef82f1955e3</td>\n",
       "      <td>2018-07-03 20:17:45</td>\n",
       "      <td>home_appliances</td>\n",
       "      <td>industry</td>\n",
       "      <td>wolf</td>\n",
       "      <td>NaN</td>\n",
       "      <td>NaN</td>\n",
       "      <td>NaN</td>\n",
       "      <td>manufacturer</td>\n",
       "      <td>NaN</td>\n",
       "      <td>0.0</td>\n",
       "    </tr>\n",
       "  </tbody>\n",
       "</table>\n",
       "</div>"
      ],
      "text/plain": [
       "                             mql_id                         seller_id  \\\n",
       "0  5420aad7fec3549a85876ba1c529bd84  2c43fb513632d29b3b58df74816f1b06   \n",
       "1  a555fb36b9368110ede0f043dfc3b9a0  bbb7d7893a450660432ea6652310ebb7   \n",
       "2  327174d3648a2d047e8940d7d15204ca  612170e34b97004b3ba37eae81836b4c   \n",
       "3  f5fee8f7da74f4887f5bcae2bafb6dd6  21e1781e36faf92725dde4730a88ca0f   \n",
       "4  ffe640179b554e295c167a2f6be528e0  ed8cb7b190ceb6067227478e48cf8dde   \n",
       "\n",
       "                             sdr_id                             sr_id  \\\n",
       "0  a8387c01a09e99ce014107505b92388c  4ef15afb4b2723d8f3d81e51ec7afefe   \n",
       "1  09285259593c61296eef10c734121d5b  d3d1e91a157ea7f90548eef82f1955e3   \n",
       "2  b90f87164b5f8c2cfa5c8572834dbe3f  6565aa9ce3178a5caf6171827af3a9ba   \n",
       "3  56bf83c4bb35763a51c2baab501b4c67  d3d1e91a157ea7f90548eef82f1955e3   \n",
       "4  4b339f9567d060bcea4f5136b9f5949e  d3d1e91a157ea7f90548eef82f1955e3   \n",
       "\n",
       "              won_date business_segment      lead_type lead_behaviour_profile  \\\n",
       "0  2018-02-26 19:58:54              pet  online_medium                    cat   \n",
       "1  2018-05-08 20:17:59  car_accessories       industry                  eagle   \n",
       "2  2018-06-05 17:27:23  home_appliances     online_big                    cat   \n",
       "3  2018-01-17 13:51:03       food_drink   online_small                    NaN   \n",
       "4  2018-07-03 20:17:45  home_appliances       industry                   wolf   \n",
       "\n",
       "  has_company has_gtin average_stock business_type  \\\n",
       "0         NaN      NaN           NaN      reseller   \n",
       "1         NaN      NaN           NaN      reseller   \n",
       "2         NaN      NaN           NaN      reseller   \n",
       "3         NaN      NaN           NaN      reseller   \n",
       "4         NaN      NaN           NaN  manufacturer   \n",
       "\n",
       "   declared_product_catalog_size  declared_monthly_revenue  \n",
       "0                            NaN                       0.0  \n",
       "1                            NaN                       0.0  \n",
       "2                            NaN                       0.0  \n",
       "3                            NaN                       0.0  \n",
       "4                            NaN                       0.0  "
      ]
     },
     "execution_count": 5,
     "metadata": {},
     "output_type": "execute_result"
    }
   ],
   "source": [
    "# Assessing the deals visually\n",
    "deals.head()"
   ]
  },
  {
   "cell_type": "code",
   "execution_count": 6,
   "id": "a353625a",
   "metadata": {},
   "outputs": [
    {
     "data": {
      "text/html": [
       "<div>\n",
       "<style scoped>\n",
       "    .dataframe tbody tr th:only-of-type {\n",
       "        vertical-align: middle;\n",
       "    }\n",
       "\n",
       "    .dataframe tbody tr th {\n",
       "        vertical-align: top;\n",
       "    }\n",
       "\n",
       "    .dataframe thead th {\n",
       "        text-align: right;\n",
       "    }\n",
       "</style>\n",
       "<table border=\"1\" class=\"dataframe\">\n",
       "  <thead>\n",
       "    <tr style=\"text-align: right;\">\n",
       "      <th></th>\n",
       "      <th>declared_product_catalog_size</th>\n",
       "      <th>declared_monthly_revenue</th>\n",
       "    </tr>\n",
       "  </thead>\n",
       "  <tbody>\n",
       "    <tr>\n",
       "      <th>count</th>\n",
       "      <td>69.000000</td>\n",
       "      <td>8.420000e+02</td>\n",
       "    </tr>\n",
       "    <tr>\n",
       "      <th>mean</th>\n",
       "      <td>233.028986</td>\n",
       "      <td>7.337768e+04</td>\n",
       "    </tr>\n",
       "    <tr>\n",
       "      <th>std</th>\n",
       "      <td>352.380558</td>\n",
       "      <td>1.744799e+06</td>\n",
       "    </tr>\n",
       "    <tr>\n",
       "      <th>min</th>\n",
       "      <td>1.000000</td>\n",
       "      <td>0.000000e+00</td>\n",
       "    </tr>\n",
       "    <tr>\n",
       "      <th>25%</th>\n",
       "      <td>30.000000</td>\n",
       "      <td>0.000000e+00</td>\n",
       "    </tr>\n",
       "    <tr>\n",
       "      <th>50%</th>\n",
       "      <td>100.000000</td>\n",
       "      <td>0.000000e+00</td>\n",
       "    </tr>\n",
       "    <tr>\n",
       "      <th>75%</th>\n",
       "      <td>300.000000</td>\n",
       "      <td>0.000000e+00</td>\n",
       "    </tr>\n",
       "    <tr>\n",
       "      <th>max</th>\n",
       "      <td>2000.000000</td>\n",
       "      <td>5.000000e+07</td>\n",
       "    </tr>\n",
       "  </tbody>\n",
       "</table>\n",
       "</div>"
      ],
      "text/plain": [
       "       declared_product_catalog_size  declared_monthly_revenue\n",
       "count                      69.000000              8.420000e+02\n",
       "mean                      233.028986              7.337768e+04\n",
       "std                       352.380558              1.744799e+06\n",
       "min                         1.000000              0.000000e+00\n",
       "25%                        30.000000              0.000000e+00\n",
       "50%                       100.000000              0.000000e+00\n",
       "75%                       300.000000              0.000000e+00\n",
       "max                      2000.000000              5.000000e+07"
      ]
     },
     "execution_count": 6,
     "metadata": {},
     "output_type": "execute_result"
    }
   ],
   "source": [
    "# Assessing the deals programatically\n",
    "deals.describe()"
   ]
  },
  {
   "cell_type": "code",
   "execution_count": 7,
   "id": "80ff32c7",
   "metadata": {},
   "outputs": [
    {
     "name": "stdout",
     "output_type": "stream",
     "text": [
      "<class 'pandas.core.frame.DataFrame'>\n",
      "RangeIndex: 842 entries, 0 to 841\n",
      "Data columns (total 14 columns):\n",
      " #   Column                         Non-Null Count  Dtype  \n",
      "---  ------                         --------------  -----  \n",
      " 0   mql_id                         842 non-null    object \n",
      " 1   seller_id                      842 non-null    object \n",
      " 2   sdr_id                         842 non-null    object \n",
      " 3   sr_id                          842 non-null    object \n",
      " 4   won_date                       842 non-null    object \n",
      " 5   business_segment               841 non-null    object \n",
      " 6   lead_type                      836 non-null    object \n",
      " 7   lead_behaviour_profile         665 non-null    object \n",
      " 8   has_company                    63 non-null     object \n",
      " 9   has_gtin                       64 non-null     object \n",
      " 10  average_stock                  66 non-null     object \n",
      " 11  business_type                  832 non-null    object \n",
      " 12  declared_product_catalog_size  69 non-null     float64\n",
      " 13  declared_monthly_revenue       842 non-null    float64\n",
      "dtypes: float64(2), object(12)\n",
      "memory usage: 92.2+ KB\n"
     ]
    }
   ],
   "source": [
    "# Assessing the deals programatically\n",
    "deals.info()"
   ]
  },
  {
   "cell_type": "markdown",
   "id": "e44eb0a8",
   "metadata": {},
   "source": [
    "#### Identify issues\n",
    "\n",
    "- Issue 1 (Validity): All rows, column `won_date`. Number of ratings is being processed by pandas as a date, rather than a object.\n",
    "- Issue 2 (Validity): All rows, column `has_company`. Number of reviews is being processed by pandas as a bool, rather than a object.\n",
    "- Issue 3 (Validity): All rows, column `has_gtin`. Number of reviews is being processed by pandas as a bool, rather than a object."
   ]
  },
  {
   "cell_type": "markdown",
   "id": "aa27cc31",
   "metadata": {},
   "source": [
    "### Quality Issue 2:"
   ]
  },
  {
   "cell_type": "code",
   "execution_count": 8,
   "id": "75dde884",
   "metadata": {},
   "outputs": [
    {
     "data": {
      "text/html": [
       "<div>\n",
       "<style scoped>\n",
       "    .dataframe tbody tr th:only-of-type {\n",
       "        vertical-align: middle;\n",
       "    }\n",
       "\n",
       "    .dataframe tbody tr th {\n",
       "        vertical-align: top;\n",
       "    }\n",
       "\n",
       "    .dataframe thead th {\n",
       "        text-align: right;\n",
       "    }\n",
       "</style>\n",
       "<table border=\"1\" class=\"dataframe\">\n",
       "  <thead>\n",
       "    <tr style=\"text-align: right;\">\n",
       "      <th></th>\n",
       "      <th>mql_id</th>\n",
       "      <th>first_contact_date</th>\n",
       "      <th>landing_page_id</th>\n",
       "      <th>origin</th>\n",
       "    </tr>\n",
       "  </thead>\n",
       "  <tbody>\n",
       "    <tr>\n",
       "      <th>0</th>\n",
       "      <td>dac32acd4db4c29c230538b72f8dd87d</td>\n",
       "      <td>2018-02-01</td>\n",
       "      <td>88740e65d5d6b056e0cda098e1ea6313</td>\n",
       "      <td>social</td>\n",
       "    </tr>\n",
       "    <tr>\n",
       "      <th>1</th>\n",
       "      <td>8c18d1de7f67e60dbd64e3c07d7e9d5d</td>\n",
       "      <td>2017-10-20</td>\n",
       "      <td>007f9098284a86ee80ddeb25d53e0af8</td>\n",
       "      <td>paid_search</td>\n",
       "    </tr>\n",
       "    <tr>\n",
       "      <th>2</th>\n",
       "      <td>b4bc852d233dfefc5131f593b538befa</td>\n",
       "      <td>2018-03-22</td>\n",
       "      <td>a7982125ff7aa3b2054c6e44f9d28522</td>\n",
       "      <td>organic_search</td>\n",
       "    </tr>\n",
       "    <tr>\n",
       "      <th>3</th>\n",
       "      <td>6be030b81c75970747525b843c1ef4f8</td>\n",
       "      <td>2018-01-22</td>\n",
       "      <td>d45d558f0daeecf3cccdffe3c59684aa</td>\n",
       "      <td>email</td>\n",
       "    </tr>\n",
       "    <tr>\n",
       "      <th>4</th>\n",
       "      <td>5420aad7fec3549a85876ba1c529bd84</td>\n",
       "      <td>2018-02-21</td>\n",
       "      <td>b48ec5f3b04e9068441002a19df93c6c</td>\n",
       "      <td>organic_search</td>\n",
       "    </tr>\n",
       "  </tbody>\n",
       "</table>\n",
       "</div>"
      ],
      "text/plain": [
       "                             mql_id first_contact_date  \\\n",
       "0  dac32acd4db4c29c230538b72f8dd87d         2018-02-01   \n",
       "1  8c18d1de7f67e60dbd64e3c07d7e9d5d         2017-10-20   \n",
       "2  b4bc852d233dfefc5131f593b538befa         2018-03-22   \n",
       "3  6be030b81c75970747525b843c1ef4f8         2018-01-22   \n",
       "4  5420aad7fec3549a85876ba1c529bd84         2018-02-21   \n",
       "\n",
       "                    landing_page_id          origin  \n",
       "0  88740e65d5d6b056e0cda098e1ea6313          social  \n",
       "1  007f9098284a86ee80ddeb25d53e0af8     paid_search  \n",
       "2  a7982125ff7aa3b2054c6e44f9d28522  organic_search  \n",
       "3  d45d558f0daeecf3cccdffe3c59684aa           email  \n",
       "4  b48ec5f3b04e9068441002a19df93c6c  organic_search  "
      ]
     },
     "execution_count": 8,
     "metadata": {},
     "output_type": "execute_result"
    }
   ],
   "source": [
    "# Assessing the leads visually\n",
    "leads.head()"
   ]
  },
  {
   "cell_type": "code",
   "execution_count": 9,
   "id": "e9dc3360",
   "metadata": {},
   "outputs": [
    {
     "data": {
      "text/html": [
       "<div>\n",
       "<style scoped>\n",
       "    .dataframe tbody tr th:only-of-type {\n",
       "        vertical-align: middle;\n",
       "    }\n",
       "\n",
       "    .dataframe tbody tr th {\n",
       "        vertical-align: top;\n",
       "    }\n",
       "\n",
       "    .dataframe thead th {\n",
       "        text-align: right;\n",
       "    }\n",
       "</style>\n",
       "<table border=\"1\" class=\"dataframe\">\n",
       "  <thead>\n",
       "    <tr style=\"text-align: right;\">\n",
       "      <th></th>\n",
       "      <th>mql_id</th>\n",
       "      <th>first_contact_date</th>\n",
       "      <th>landing_page_id</th>\n",
       "      <th>origin</th>\n",
       "    </tr>\n",
       "  </thead>\n",
       "  <tbody>\n",
       "    <tr>\n",
       "      <th>count</th>\n",
       "      <td>8000</td>\n",
       "      <td>8000</td>\n",
       "      <td>8000</td>\n",
       "      <td>7940</td>\n",
       "    </tr>\n",
       "    <tr>\n",
       "      <th>unique</th>\n",
       "      <td>8000</td>\n",
       "      <td>336</td>\n",
       "      <td>495</td>\n",
       "      <td>10</td>\n",
       "    </tr>\n",
       "    <tr>\n",
       "      <th>top</th>\n",
       "      <td>dac32acd4db4c29c230538b72f8dd87d</td>\n",
       "      <td>2018-05-02</td>\n",
       "      <td>b76ef37428e6799c421989521c0e5077</td>\n",
       "      <td>organic_search</td>\n",
       "    </tr>\n",
       "    <tr>\n",
       "      <th>freq</th>\n",
       "      <td>1</td>\n",
       "      <td>93</td>\n",
       "      <td>912</td>\n",
       "      <td>2296</td>\n",
       "    </tr>\n",
       "  </tbody>\n",
       "</table>\n",
       "</div>"
      ],
      "text/plain": [
       "                                  mql_id first_contact_date  \\\n",
       "count                               8000               8000   \n",
       "unique                              8000                336   \n",
       "top     dac32acd4db4c29c230538b72f8dd87d         2018-05-02   \n",
       "freq                                   1                 93   \n",
       "\n",
       "                         landing_page_id          origin  \n",
       "count                               8000            7940  \n",
       "unique                               495              10  \n",
       "top     b76ef37428e6799c421989521c0e5077  organic_search  \n",
       "freq                                 912            2296  "
      ]
     },
     "execution_count": 9,
     "metadata": {},
     "output_type": "execute_result"
    }
   ],
   "source": [
    "# Assessing the leads programatically\n",
    "leads.describe()"
   ]
  },
  {
   "cell_type": "code",
   "execution_count": 10,
   "id": "24ca818d",
   "metadata": {},
   "outputs": [
    {
     "name": "stdout",
     "output_type": "stream",
     "text": [
      "<class 'pandas.core.frame.DataFrame'>\n",
      "RangeIndex: 8000 entries, 0 to 7999\n",
      "Data columns (total 4 columns):\n",
      " #   Column              Non-Null Count  Dtype \n",
      "---  ------              --------------  ----- \n",
      " 0   mql_id              8000 non-null   object\n",
      " 1   first_contact_date  8000 non-null   object\n",
      " 2   landing_page_id     8000 non-null   object\n",
      " 3   origin              7940 non-null   object\n",
      "dtypes: object(4)\n",
      "memory usage: 250.1+ KB\n"
     ]
    }
   ],
   "source": [
    "# Assessing the leads programatically\n",
    "leads.info()"
   ]
  },
  {
   "cell_type": "markdown",
   "id": "bd6e855d",
   "metadata": {},
   "source": [
    "#### Identify issues\n",
    "\n",
    "- Issue 1 (Validity): All rows, column `first_contact_date\t`. Number of ratings is being processed by pandas as a date, rather than a object."
   ]
  },
  {
   "cell_type": "markdown",
   "id": "d8f4a03f",
   "metadata": {},
   "source": [
    "### Tidiness Issue :"
   ]
  },
  {
   "cell_type": "code",
   "execution_count": 11,
   "id": "9a04bb6b",
   "metadata": {},
   "outputs": [
    {
     "data": {
      "text/html": [
       "<div>\n",
       "<style scoped>\n",
       "    .dataframe tbody tr th:only-of-type {\n",
       "        vertical-align: middle;\n",
       "    }\n",
       "\n",
       "    .dataframe tbody tr th {\n",
       "        vertical-align: top;\n",
       "    }\n",
       "\n",
       "    .dataframe thead th {\n",
       "        text-align: right;\n",
       "    }\n",
       "</style>\n",
       "<table border=\"1\" class=\"dataframe\">\n",
       "  <thead>\n",
       "    <tr style=\"text-align: right;\">\n",
       "      <th></th>\n",
       "      <th>mql_id</th>\n",
       "      <th>seller_id</th>\n",
       "      <th>sdr_id</th>\n",
       "      <th>sr_id</th>\n",
       "      <th>won_date</th>\n",
       "      <th>business_segment</th>\n",
       "      <th>lead_type</th>\n",
       "      <th>lead_behaviour_profile</th>\n",
       "      <th>has_company</th>\n",
       "      <th>has_gtin</th>\n",
       "      <th>average_stock</th>\n",
       "      <th>business_type</th>\n",
       "      <th>declared_product_catalog_size</th>\n",
       "      <th>declared_monthly_revenue</th>\n",
       "    </tr>\n",
       "  </thead>\n",
       "  <tbody>\n",
       "    <tr>\n",
       "      <th>0</th>\n",
       "      <td>5420aad7fec3549a85876ba1c529bd84</td>\n",
       "      <td>2c43fb513632d29b3b58df74816f1b06</td>\n",
       "      <td>a8387c01a09e99ce014107505b92388c</td>\n",
       "      <td>4ef15afb4b2723d8f3d81e51ec7afefe</td>\n",
       "      <td>2018-02-26 19:58:54</td>\n",
       "      <td>pet</td>\n",
       "      <td>online_medium</td>\n",
       "      <td>cat</td>\n",
       "      <td>NaN</td>\n",
       "      <td>NaN</td>\n",
       "      <td>NaN</td>\n",
       "      <td>reseller</td>\n",
       "      <td>NaN</td>\n",
       "      <td>0.0</td>\n",
       "    </tr>\n",
       "    <tr>\n",
       "      <th>1</th>\n",
       "      <td>a555fb36b9368110ede0f043dfc3b9a0</td>\n",
       "      <td>bbb7d7893a450660432ea6652310ebb7</td>\n",
       "      <td>09285259593c61296eef10c734121d5b</td>\n",
       "      <td>d3d1e91a157ea7f90548eef82f1955e3</td>\n",
       "      <td>2018-05-08 20:17:59</td>\n",
       "      <td>car_accessories</td>\n",
       "      <td>industry</td>\n",
       "      <td>eagle</td>\n",
       "      <td>NaN</td>\n",
       "      <td>NaN</td>\n",
       "      <td>NaN</td>\n",
       "      <td>reseller</td>\n",
       "      <td>NaN</td>\n",
       "      <td>0.0</td>\n",
       "    </tr>\n",
       "    <tr>\n",
       "      <th>2</th>\n",
       "      <td>327174d3648a2d047e8940d7d15204ca</td>\n",
       "      <td>612170e34b97004b3ba37eae81836b4c</td>\n",
       "      <td>b90f87164b5f8c2cfa5c8572834dbe3f</td>\n",
       "      <td>6565aa9ce3178a5caf6171827af3a9ba</td>\n",
       "      <td>2018-06-05 17:27:23</td>\n",
       "      <td>home_appliances</td>\n",
       "      <td>online_big</td>\n",
       "      <td>cat</td>\n",
       "      <td>NaN</td>\n",
       "      <td>NaN</td>\n",
       "      <td>NaN</td>\n",
       "      <td>reseller</td>\n",
       "      <td>NaN</td>\n",
       "      <td>0.0</td>\n",
       "    </tr>\n",
       "    <tr>\n",
       "      <th>3</th>\n",
       "      <td>f5fee8f7da74f4887f5bcae2bafb6dd6</td>\n",
       "      <td>21e1781e36faf92725dde4730a88ca0f</td>\n",
       "      <td>56bf83c4bb35763a51c2baab501b4c67</td>\n",
       "      <td>d3d1e91a157ea7f90548eef82f1955e3</td>\n",
       "      <td>2018-01-17 13:51:03</td>\n",
       "      <td>food_drink</td>\n",
       "      <td>online_small</td>\n",
       "      <td>NaN</td>\n",
       "      <td>NaN</td>\n",
       "      <td>NaN</td>\n",
       "      <td>NaN</td>\n",
       "      <td>reseller</td>\n",
       "      <td>NaN</td>\n",
       "      <td>0.0</td>\n",
       "    </tr>\n",
       "    <tr>\n",
       "      <th>4</th>\n",
       "      <td>ffe640179b554e295c167a2f6be528e0</td>\n",
       "      <td>ed8cb7b190ceb6067227478e48cf8dde</td>\n",
       "      <td>4b339f9567d060bcea4f5136b9f5949e</td>\n",
       "      <td>d3d1e91a157ea7f90548eef82f1955e3</td>\n",
       "      <td>2018-07-03 20:17:45</td>\n",
       "      <td>home_appliances</td>\n",
       "      <td>industry</td>\n",
       "      <td>wolf</td>\n",
       "      <td>NaN</td>\n",
       "      <td>NaN</td>\n",
       "      <td>NaN</td>\n",
       "      <td>manufacturer</td>\n",
       "      <td>NaN</td>\n",
       "      <td>0.0</td>\n",
       "    </tr>\n",
       "  </tbody>\n",
       "</table>\n",
       "</div>"
      ],
      "text/plain": [
       "                             mql_id                         seller_id  \\\n",
       "0  5420aad7fec3549a85876ba1c529bd84  2c43fb513632d29b3b58df74816f1b06   \n",
       "1  a555fb36b9368110ede0f043dfc3b9a0  bbb7d7893a450660432ea6652310ebb7   \n",
       "2  327174d3648a2d047e8940d7d15204ca  612170e34b97004b3ba37eae81836b4c   \n",
       "3  f5fee8f7da74f4887f5bcae2bafb6dd6  21e1781e36faf92725dde4730a88ca0f   \n",
       "4  ffe640179b554e295c167a2f6be528e0  ed8cb7b190ceb6067227478e48cf8dde   \n",
       "\n",
       "                             sdr_id                             sr_id  \\\n",
       "0  a8387c01a09e99ce014107505b92388c  4ef15afb4b2723d8f3d81e51ec7afefe   \n",
       "1  09285259593c61296eef10c734121d5b  d3d1e91a157ea7f90548eef82f1955e3   \n",
       "2  b90f87164b5f8c2cfa5c8572834dbe3f  6565aa9ce3178a5caf6171827af3a9ba   \n",
       "3  56bf83c4bb35763a51c2baab501b4c67  d3d1e91a157ea7f90548eef82f1955e3   \n",
       "4  4b339f9567d060bcea4f5136b9f5949e  d3d1e91a157ea7f90548eef82f1955e3   \n",
       "\n",
       "              won_date business_segment      lead_type lead_behaviour_profile  \\\n",
       "0  2018-02-26 19:58:54              pet  online_medium                    cat   \n",
       "1  2018-05-08 20:17:59  car_accessories       industry                  eagle   \n",
       "2  2018-06-05 17:27:23  home_appliances     online_big                    cat   \n",
       "3  2018-01-17 13:51:03       food_drink   online_small                    NaN   \n",
       "4  2018-07-03 20:17:45  home_appliances       industry                   wolf   \n",
       "\n",
       "  has_company has_gtin average_stock business_type  \\\n",
       "0         NaN      NaN           NaN      reseller   \n",
       "1         NaN      NaN           NaN      reseller   \n",
       "2         NaN      NaN           NaN      reseller   \n",
       "3         NaN      NaN           NaN      reseller   \n",
       "4         NaN      NaN           NaN  manufacturer   \n",
       "\n",
       "   declared_product_catalog_size  declared_monthly_revenue  \n",
       "0                            NaN                       0.0  \n",
       "1                            NaN                       0.0  \n",
       "2                            NaN                       0.0  \n",
       "3                            NaN                       0.0  \n",
       "4                            NaN                       0.0  "
      ]
     },
     "execution_count": 11,
     "metadata": {},
     "output_type": "execute_result"
    }
   ],
   "source": [
    "# Assessing the deals visually\n",
    "deals.head()"
   ]
  },
  {
   "cell_type": "code",
   "execution_count": 12,
   "id": "d7ad1daf",
   "metadata": {},
   "outputs": [
    {
     "name": "stdout",
     "output_type": "stream",
     "text": [
      "<class 'pandas.core.frame.DataFrame'>\n",
      "RangeIndex: 842 entries, 0 to 841\n",
      "Data columns (total 14 columns):\n",
      " #   Column                         Non-Null Count  Dtype  \n",
      "---  ------                         --------------  -----  \n",
      " 0   mql_id                         842 non-null    object \n",
      " 1   seller_id                      842 non-null    object \n",
      " 2   sdr_id                         842 non-null    object \n",
      " 3   sr_id                          842 non-null    object \n",
      " 4   won_date                       842 non-null    object \n",
      " 5   business_segment               841 non-null    object \n",
      " 6   lead_type                      836 non-null    object \n",
      " 7   lead_behaviour_profile         665 non-null    object \n",
      " 8   has_company                    63 non-null     object \n",
      " 9   has_gtin                       64 non-null     object \n",
      " 10  average_stock                  66 non-null     object \n",
      " 11  business_type                  832 non-null    object \n",
      " 12  declared_product_catalog_size  69 non-null     float64\n",
      " 13  declared_monthly_revenue       842 non-null    float64\n",
      "dtypes: float64(2), object(12)\n",
      "memory usage: 92.2+ KB\n"
     ]
    }
   ],
   "source": [
    "# Assessing the deals programatically\n",
    "deals.info()"
   ]
  },
  {
   "cell_type": "code",
   "execution_count": 13,
   "id": "811f0f21",
   "metadata": {},
   "outputs": [
    {
     "data": {
      "text/plain": [
       "has_company\n",
       "True     58\n",
       "False     5\n",
       "Name: count, dtype: int64"
      ]
     },
     "execution_count": 13,
     "metadata": {},
     "output_type": "execute_result"
    }
   ],
   "source": [
    "# Checking the values of has_company column\n",
    "deals.has_company.value_counts()"
   ]
  },
  {
   "cell_type": "code",
   "execution_count": 14,
   "id": "ee38052c",
   "metadata": {},
   "outputs": [
    {
     "data": {
      "text/plain": [
       "has_gtin\n",
       "True     54\n",
       "False    10\n",
       "Name: count, dtype: int64"
      ]
     },
     "execution_count": 14,
     "metadata": {},
     "output_type": "execute_result"
    }
   ],
   "source": [
    "# Checking the values of has_gtin column\n",
    "deals.has_gtin.value_counts()"
   ]
  },
  {
   "cell_type": "markdown",
   "id": "176e6ab0",
   "metadata": {},
   "source": [
    "### Identify issues\n",
    "\n",
    "- Issue 1 (Structural): the column `won_date` violate the first rule of tidiness: that each variable forms a column.\n",
    "- Issue 2 : the column `has_company` and `has_gtin`, contains many null values."
   ]
  },
  {
   "cell_type": "code",
   "execution_count": 15,
   "id": "d8b09fa4",
   "metadata": {},
   "outputs": [
    {
     "data": {
      "text/html": [
       "<div>\n",
       "<style scoped>\n",
       "    .dataframe tbody tr th:only-of-type {\n",
       "        vertical-align: middle;\n",
       "    }\n",
       "\n",
       "    .dataframe tbody tr th {\n",
       "        vertical-align: top;\n",
       "    }\n",
       "\n",
       "    .dataframe thead th {\n",
       "        text-align: right;\n",
       "    }\n",
       "</style>\n",
       "<table border=\"1\" class=\"dataframe\">\n",
       "  <thead>\n",
       "    <tr style=\"text-align: right;\">\n",
       "      <th></th>\n",
       "      <th>mql_id</th>\n",
       "      <th>first_contact_date</th>\n",
       "      <th>landing_page_id</th>\n",
       "      <th>origin</th>\n",
       "    </tr>\n",
       "  </thead>\n",
       "  <tbody>\n",
       "    <tr>\n",
       "      <th>0</th>\n",
       "      <td>dac32acd4db4c29c230538b72f8dd87d</td>\n",
       "      <td>2018-02-01</td>\n",
       "      <td>88740e65d5d6b056e0cda098e1ea6313</td>\n",
       "      <td>social</td>\n",
       "    </tr>\n",
       "    <tr>\n",
       "      <th>1</th>\n",
       "      <td>8c18d1de7f67e60dbd64e3c07d7e9d5d</td>\n",
       "      <td>2017-10-20</td>\n",
       "      <td>007f9098284a86ee80ddeb25d53e0af8</td>\n",
       "      <td>paid_search</td>\n",
       "    </tr>\n",
       "    <tr>\n",
       "      <th>2</th>\n",
       "      <td>b4bc852d233dfefc5131f593b538befa</td>\n",
       "      <td>2018-03-22</td>\n",
       "      <td>a7982125ff7aa3b2054c6e44f9d28522</td>\n",
       "      <td>organic_search</td>\n",
       "    </tr>\n",
       "    <tr>\n",
       "      <th>3</th>\n",
       "      <td>6be030b81c75970747525b843c1ef4f8</td>\n",
       "      <td>2018-01-22</td>\n",
       "      <td>d45d558f0daeecf3cccdffe3c59684aa</td>\n",
       "      <td>email</td>\n",
       "    </tr>\n",
       "    <tr>\n",
       "      <th>4</th>\n",
       "      <td>5420aad7fec3549a85876ba1c529bd84</td>\n",
       "      <td>2018-02-21</td>\n",
       "      <td>b48ec5f3b04e9068441002a19df93c6c</td>\n",
       "      <td>organic_search</td>\n",
       "    </tr>\n",
       "  </tbody>\n",
       "</table>\n",
       "</div>"
      ],
      "text/plain": [
       "                             mql_id first_contact_date  \\\n",
       "0  dac32acd4db4c29c230538b72f8dd87d         2018-02-01   \n",
       "1  8c18d1de7f67e60dbd64e3c07d7e9d5d         2017-10-20   \n",
       "2  b4bc852d233dfefc5131f593b538befa         2018-03-22   \n",
       "3  6be030b81c75970747525b843c1ef4f8         2018-01-22   \n",
       "4  5420aad7fec3549a85876ba1c529bd84         2018-02-21   \n",
       "\n",
       "                    landing_page_id          origin  \n",
       "0  88740e65d5d6b056e0cda098e1ea6313          social  \n",
       "1  007f9098284a86ee80ddeb25d53e0af8     paid_search  \n",
       "2  a7982125ff7aa3b2054c6e44f9d28522  organic_search  \n",
       "3  d45d558f0daeecf3cccdffe3c59684aa           email  \n",
       "4  b48ec5f3b04e9068441002a19df93c6c  organic_search  "
      ]
     },
     "execution_count": 15,
     "metadata": {},
     "output_type": "execute_result"
    }
   ],
   "source": [
    "# Assessing the leads visually\n",
    "leads.head()"
   ]
  },
  {
   "cell_type": "code",
   "execution_count": 16,
   "id": "a2459683",
   "metadata": {},
   "outputs": [
    {
     "name": "stdout",
     "output_type": "stream",
     "text": [
      "<class 'pandas.core.frame.DataFrame'>\n",
      "RangeIndex: 8000 entries, 0 to 7999\n",
      "Data columns (total 4 columns):\n",
      " #   Column              Non-Null Count  Dtype \n",
      "---  ------              --------------  ----- \n",
      " 0   mql_id              8000 non-null   object\n",
      " 1   first_contact_date  8000 non-null   object\n",
      " 2   landing_page_id     8000 non-null   object\n",
      " 3   origin              7940 non-null   object\n",
      "dtypes: object(4)\n",
      "memory usage: 250.1+ KB\n"
     ]
    }
   ],
   "source": [
    "# Assessing the leads programatically\n",
    "leads.info()"
   ]
  },
  {
   "cell_type": "markdown",
   "id": "fefe200f",
   "metadata": {},
   "source": [
    "<a id='clean'></a>\n",
    "## 3. Clean data"
   ]
  },
  {
   "cell_type": "markdown",
   "id": "009b4448",
   "metadata": {},
   "source": [
    "<a id='clean1'></a>\n",
    "### 3.1 cleaning deals data"
   ]
  },
  {
   "cell_type": "code",
   "execution_count": 17,
   "id": "891e5626",
   "metadata": {},
   "outputs": [],
   "source": [
    "# Making a copy of the original data\n",
    "cleaned_deals = deals.copy()"
   ]
  },
  {
   "cell_type": "code",
   "execution_count": 18,
   "id": "0bd7472a",
   "metadata": {},
   "outputs": [],
   "source": [
    "#Filter the dataframe to the specific data elements\n",
    "cleaned_deals = deals[['mql_id', 'business_segment', 'lead_type', 'won_date', 'has_company', 'has_gtin', 'business_type']]"
   ]
  },
  {
   "cell_type": "code",
   "execution_count": 19,
   "id": "b30b4afe",
   "metadata": {},
   "outputs": [
    {
     "data": {
      "text/html": [
       "<div>\n",
       "<style scoped>\n",
       "    .dataframe tbody tr th:only-of-type {\n",
       "        vertical-align: middle;\n",
       "    }\n",
       "\n",
       "    .dataframe tbody tr th {\n",
       "        vertical-align: top;\n",
       "    }\n",
       "\n",
       "    .dataframe thead th {\n",
       "        text-align: right;\n",
       "    }\n",
       "</style>\n",
       "<table border=\"1\" class=\"dataframe\">\n",
       "  <thead>\n",
       "    <tr style=\"text-align: right;\">\n",
       "      <th></th>\n",
       "      <th>mql_id</th>\n",
       "      <th>business_segment</th>\n",
       "      <th>lead_type</th>\n",
       "      <th>won_date</th>\n",
       "      <th>has_company</th>\n",
       "      <th>has_gtin</th>\n",
       "      <th>business_type</th>\n",
       "    </tr>\n",
       "  </thead>\n",
       "  <tbody>\n",
       "    <tr>\n",
       "      <th>0</th>\n",
       "      <td>5420aad7fec3549a85876ba1c529bd84</td>\n",
       "      <td>pet</td>\n",
       "      <td>online_medium</td>\n",
       "      <td>2018-02-26 19:58:54</td>\n",
       "      <td>NaN</td>\n",
       "      <td>NaN</td>\n",
       "      <td>reseller</td>\n",
       "    </tr>\n",
       "    <tr>\n",
       "      <th>1</th>\n",
       "      <td>a555fb36b9368110ede0f043dfc3b9a0</td>\n",
       "      <td>car_accessories</td>\n",
       "      <td>industry</td>\n",
       "      <td>2018-05-08 20:17:59</td>\n",
       "      <td>NaN</td>\n",
       "      <td>NaN</td>\n",
       "      <td>reseller</td>\n",
       "    </tr>\n",
       "    <tr>\n",
       "      <th>2</th>\n",
       "      <td>327174d3648a2d047e8940d7d15204ca</td>\n",
       "      <td>home_appliances</td>\n",
       "      <td>online_big</td>\n",
       "      <td>2018-06-05 17:27:23</td>\n",
       "      <td>NaN</td>\n",
       "      <td>NaN</td>\n",
       "      <td>reseller</td>\n",
       "    </tr>\n",
       "    <tr>\n",
       "      <th>3</th>\n",
       "      <td>f5fee8f7da74f4887f5bcae2bafb6dd6</td>\n",
       "      <td>food_drink</td>\n",
       "      <td>online_small</td>\n",
       "      <td>2018-01-17 13:51:03</td>\n",
       "      <td>NaN</td>\n",
       "      <td>NaN</td>\n",
       "      <td>reseller</td>\n",
       "    </tr>\n",
       "    <tr>\n",
       "      <th>4</th>\n",
       "      <td>ffe640179b554e295c167a2f6be528e0</td>\n",
       "      <td>home_appliances</td>\n",
       "      <td>industry</td>\n",
       "      <td>2018-07-03 20:17:45</td>\n",
       "      <td>NaN</td>\n",
       "      <td>NaN</td>\n",
       "      <td>manufacturer</td>\n",
       "    </tr>\n",
       "  </tbody>\n",
       "</table>\n",
       "</div>"
      ],
      "text/plain": [
       "                             mql_id business_segment      lead_type  \\\n",
       "0  5420aad7fec3549a85876ba1c529bd84              pet  online_medium   \n",
       "1  a555fb36b9368110ede0f043dfc3b9a0  car_accessories       industry   \n",
       "2  327174d3648a2d047e8940d7d15204ca  home_appliances     online_big   \n",
       "3  f5fee8f7da74f4887f5bcae2bafb6dd6       food_drink   online_small   \n",
       "4  ffe640179b554e295c167a2f6be528e0  home_appliances       industry   \n",
       "\n",
       "              won_date has_company has_gtin business_type  \n",
       "0  2018-02-26 19:58:54         NaN      NaN      reseller  \n",
       "1  2018-05-08 20:17:59         NaN      NaN      reseller  \n",
       "2  2018-06-05 17:27:23         NaN      NaN      reseller  \n",
       "3  2018-01-17 13:51:03         NaN      NaN      reseller  \n",
       "4  2018-07-03 20:17:45         NaN      NaN  manufacturer  "
      ]
     },
     "execution_count": 19,
     "metadata": {},
     "output_type": "execute_result"
    }
   ],
   "source": [
    "cleaned_deals.head()"
   ]
  },
  {
   "cell_type": "code",
   "execution_count": 20,
   "id": "e597756c",
   "metadata": {},
   "outputs": [
    {
     "name": "stdout",
     "output_type": "stream",
     "text": [
      "<class 'pandas.core.frame.DataFrame'>\n",
      "RangeIndex: 842 entries, 0 to 841\n",
      "Data columns (total 7 columns):\n",
      " #   Column            Non-Null Count  Dtype \n",
      "---  ------            --------------  ----- \n",
      " 0   mql_id            842 non-null    object\n",
      " 1   business_segment  841 non-null    object\n",
      " 2   lead_type         836 non-null    object\n",
      " 3   won_date          842 non-null    object\n",
      " 4   has_company       63 non-null     object\n",
      " 5   has_gtin          64 non-null     object\n",
      " 6   business_type     832 non-null    object\n",
      "dtypes: object(7)\n",
      "memory usage: 46.2+ KB\n"
     ]
    }
   ],
   "source": [
    "cleaned_deals.info()"
   ]
  },
  {
   "cell_type": "markdown",
   "id": "c4718311",
   "metadata": {},
   "source": [
    "The null values at `has_company` means the the lead has no company to in should be set as `False`"
   ]
  },
  {
   "cell_type": "code",
   "execution_count": 21,
   "id": "ef010ec2",
   "metadata": {},
   "outputs": [],
   "source": [
    "# Setting NaN values as false at has_company column\n",
    "cleaned_deals['has_company'] = cleaned_deals['has_company'].fillna(False)\n",
    "\n",
    "# Setting NaN values as false at has_gtin column\n",
    "cleaned_deals['has_gtin'] = cleaned_deals['has_gtin'].fillna(False)"
   ]
  },
  {
   "cell_type": "code",
   "execution_count": 22,
   "id": "2619a166",
   "metadata": {},
   "outputs": [],
   "source": [
    "# Setting the type of `has_company` into bool\n",
    "cleaned_deals['has_company'] = cleaned_deals['has_company'].astype(bool)\n",
    "cleaned_deals['has_gtin'] = cleaned_deals['has_gtin'].astype(bool)\n",
    "\n",
    "# setting the value of the `won_date` into date only and setting the dtype into datetime\n",
    "cleaned_deals['won_date'] = pd.to_datetime(cleaned_deals['won_date']).dt.date\n",
    "cleaned_deals['won_date'] = pd.to_datetime(cleaned_deals['won_date'])"
   ]
  },
  {
   "cell_type": "code",
   "execution_count": 23,
   "id": "62eaaef7",
   "metadata": {},
   "outputs": [
    {
     "data": {
      "text/plain": [
       "has_company\n",
       "False    784\n",
       "True      58\n",
       "Name: count, dtype: int64"
      ]
     },
     "execution_count": 23,
     "metadata": {},
     "output_type": "execute_result"
    }
   ],
   "source": [
    "# Making sure that the nan values set into false\n",
    "cleaned_deals['has_company'].value_counts()"
   ]
  },
  {
   "cell_type": "code",
   "execution_count": 24,
   "id": "9ec5fc3a",
   "metadata": {},
   "outputs": [],
   "source": [
    "# The column `lead_type` contains null values so we will drop rows with null values\n",
    "cleaned_deals = cleaned_deals.dropna()"
   ]
  },
  {
   "cell_type": "code",
   "execution_count": 25,
   "id": "51f3026d",
   "metadata": {},
   "outputs": [
    {
     "name": "stdout",
     "output_type": "stream",
     "text": [
      "<class 'pandas.core.frame.DataFrame'>\n",
      "Index: 825 entries, 0 to 841\n",
      "Data columns (total 7 columns):\n",
      " #   Column            Non-Null Count  Dtype         \n",
      "---  ------            --------------  -----         \n",
      " 0   mql_id            825 non-null    object        \n",
      " 1   business_segment  825 non-null    object        \n",
      " 2   lead_type         825 non-null    object        \n",
      " 3   won_date          825 non-null    datetime64[ns]\n",
      " 4   has_company       825 non-null    bool          \n",
      " 5   has_gtin          825 non-null    bool          \n",
      " 6   business_type     825 non-null    object        \n",
      "dtypes: bool(2), datetime64[ns](1), object(4)\n",
      "memory usage: 40.3+ KB\n"
     ]
    }
   ],
   "source": [
    "# Checking if the codes worked well or not\n",
    "cleaned_deals.info()"
   ]
  },
  {
   "cell_type": "markdown",
   "id": "b25bb7e9",
   "metadata": {},
   "source": [
    "<a id='clean2'></a>\n",
    "### 3.2 cleaning leads data"
   ]
  },
  {
   "cell_type": "code",
   "execution_count": 26,
   "id": "7ba891e3",
   "metadata": {},
   "outputs": [],
   "source": [
    "# Making a copy od leads dataframe\n",
    "cleaned_leads = leads.copy()"
   ]
  },
  {
   "cell_type": "code",
   "execution_count": 27,
   "id": "92e847fc",
   "metadata": {},
   "outputs": [
    {
     "data": {
      "text/html": [
       "<div>\n",
       "<style scoped>\n",
       "    .dataframe tbody tr th:only-of-type {\n",
       "        vertical-align: middle;\n",
       "    }\n",
       "\n",
       "    .dataframe tbody tr th {\n",
       "        vertical-align: top;\n",
       "    }\n",
       "\n",
       "    .dataframe thead th {\n",
       "        text-align: right;\n",
       "    }\n",
       "</style>\n",
       "<table border=\"1\" class=\"dataframe\">\n",
       "  <thead>\n",
       "    <tr style=\"text-align: right;\">\n",
       "      <th></th>\n",
       "      <th>mql_id</th>\n",
       "      <th>first_contact_date</th>\n",
       "      <th>landing_page_id</th>\n",
       "      <th>origin</th>\n",
       "    </tr>\n",
       "  </thead>\n",
       "  <tbody>\n",
       "    <tr>\n",
       "      <th>0</th>\n",
       "      <td>dac32acd4db4c29c230538b72f8dd87d</td>\n",
       "      <td>2018-02-01</td>\n",
       "      <td>88740e65d5d6b056e0cda098e1ea6313</td>\n",
       "      <td>social</td>\n",
       "    </tr>\n",
       "    <tr>\n",
       "      <th>1</th>\n",
       "      <td>8c18d1de7f67e60dbd64e3c07d7e9d5d</td>\n",
       "      <td>2017-10-20</td>\n",
       "      <td>007f9098284a86ee80ddeb25d53e0af8</td>\n",
       "      <td>paid_search</td>\n",
       "    </tr>\n",
       "    <tr>\n",
       "      <th>2</th>\n",
       "      <td>b4bc852d233dfefc5131f593b538befa</td>\n",
       "      <td>2018-03-22</td>\n",
       "      <td>a7982125ff7aa3b2054c6e44f9d28522</td>\n",
       "      <td>organic_search</td>\n",
       "    </tr>\n",
       "    <tr>\n",
       "      <th>3</th>\n",
       "      <td>6be030b81c75970747525b843c1ef4f8</td>\n",
       "      <td>2018-01-22</td>\n",
       "      <td>d45d558f0daeecf3cccdffe3c59684aa</td>\n",
       "      <td>email</td>\n",
       "    </tr>\n",
       "    <tr>\n",
       "      <th>4</th>\n",
       "      <td>5420aad7fec3549a85876ba1c529bd84</td>\n",
       "      <td>2018-02-21</td>\n",
       "      <td>b48ec5f3b04e9068441002a19df93c6c</td>\n",
       "      <td>organic_search</td>\n",
       "    </tr>\n",
       "  </tbody>\n",
       "</table>\n",
       "</div>"
      ],
      "text/plain": [
       "                             mql_id first_contact_date  \\\n",
       "0  dac32acd4db4c29c230538b72f8dd87d         2018-02-01   \n",
       "1  8c18d1de7f67e60dbd64e3c07d7e9d5d         2017-10-20   \n",
       "2  b4bc852d233dfefc5131f593b538befa         2018-03-22   \n",
       "3  6be030b81c75970747525b843c1ef4f8         2018-01-22   \n",
       "4  5420aad7fec3549a85876ba1c529bd84         2018-02-21   \n",
       "\n",
       "                    landing_page_id          origin  \n",
       "0  88740e65d5d6b056e0cda098e1ea6313          social  \n",
       "1  007f9098284a86ee80ddeb25d53e0af8     paid_search  \n",
       "2  a7982125ff7aa3b2054c6e44f9d28522  organic_search  \n",
       "3  d45d558f0daeecf3cccdffe3c59684aa           email  \n",
       "4  b48ec5f3b04e9068441002a19df93c6c  organic_search  "
      ]
     },
     "execution_count": 27,
     "metadata": {},
     "output_type": "execute_result"
    }
   ],
   "source": [
    "# Cheking it visualy\n",
    "cleaned_leads.head()"
   ]
  },
  {
   "cell_type": "code",
   "execution_count": 28,
   "id": "924c182a",
   "metadata": {},
   "outputs": [
    {
     "name": "stdout",
     "output_type": "stream",
     "text": [
      "<class 'pandas.core.frame.DataFrame'>\n",
      "RangeIndex: 8000 entries, 0 to 7999\n",
      "Data columns (total 4 columns):\n",
      " #   Column              Non-Null Count  Dtype \n",
      "---  ------              --------------  ----- \n",
      " 0   mql_id              8000 non-null   object\n",
      " 1   first_contact_date  8000 non-null   object\n",
      " 2   landing_page_id     8000 non-null   object\n",
      " 3   origin              7940 non-null   object\n",
      "dtypes: object(4)\n",
      "memory usage: 250.1+ KB\n"
     ]
    }
   ],
   "source": [
    "cleaned_leads.info()"
   ]
  },
  {
   "cell_type": "code",
   "execution_count": 29,
   "id": "1a5fc7ef",
   "metadata": {},
   "outputs": [],
   "source": [
    "# Setting the data type of the `first_contact_date` into date\n",
    "cleaned_leads['first_contact_date'] = pd.to_datetime(cleaned_leads['first_contact_date'])"
   ]
  },
  {
   "cell_type": "code",
   "execution_count": 30,
   "id": "db778f70",
   "metadata": {},
   "outputs": [
    {
     "name": "stdout",
     "output_type": "stream",
     "text": [
      "<class 'pandas.core.frame.DataFrame'>\n",
      "RangeIndex: 8000 entries, 0 to 7999\n",
      "Data columns (total 4 columns):\n",
      " #   Column              Non-Null Count  Dtype         \n",
      "---  ------              --------------  -----         \n",
      " 0   mql_id              8000 non-null   object        \n",
      " 1   first_contact_date  8000 non-null   datetime64[ns]\n",
      " 2   landing_page_id     8000 non-null   object        \n",
      " 3   origin              7940 non-null   object        \n",
      "dtypes: datetime64[ns](1), object(3)\n",
      "memory usage: 250.1+ KB\n"
     ]
    }
   ],
   "source": [
    "# Making sure the code worked well\n",
    "cleaned_leads.info()"
   ]
  },
  {
   "cell_type": "code",
   "execution_count": 31,
   "id": "47e66d5e",
   "metadata": {},
   "outputs": [
    {
     "name": "stdout",
     "output_type": "stream",
     "text": [
      "<class 'pandas.core.frame.DataFrame'>\n",
      "Index: 7940 entries, 0 to 7999\n",
      "Data columns (total 4 columns):\n",
      " #   Column              Non-Null Count  Dtype         \n",
      "---  ------              --------------  -----         \n",
      " 0   mql_id              7940 non-null   object        \n",
      " 1   first_contact_date  7940 non-null   datetime64[ns]\n",
      " 2   landing_page_id     7940 non-null   object        \n",
      " 3   origin              7940 non-null   object        \n",
      "dtypes: datetime64[ns](1), object(3)\n",
      "memory usage: 310.2+ KB\n"
     ]
    }
   ],
   "source": [
    "# Dropping null values\n",
    "cleaned_leads = cleaned_leads.dropna()\n",
    "\n",
    "cleaned_leads.info()"
   ]
  },
  {
   "cell_type": "markdown",
   "id": "c4359e07",
   "metadata": {},
   "source": [
    "<a id='clean3'></a>\n",
    "### 3.3 **Combine datasets**"
   ]
  },
  {
   "cell_type": "code",
   "execution_count": 32,
   "id": "1fd25584",
   "metadata": {},
   "outputs": [
    {
     "data": {
      "text/html": [
       "<div>\n",
       "<style scoped>\n",
       "    .dataframe tbody tr th:only-of-type {\n",
       "        vertical-align: middle;\n",
       "    }\n",
       "\n",
       "    .dataframe tbody tr th {\n",
       "        vertical-align: top;\n",
       "    }\n",
       "\n",
       "    .dataframe thead th {\n",
       "        text-align: right;\n",
       "    }\n",
       "</style>\n",
       "<table border=\"1\" class=\"dataframe\">\n",
       "  <thead>\n",
       "    <tr style=\"text-align: right;\">\n",
       "      <th></th>\n",
       "      <th>mql_id</th>\n",
       "      <th>business_segment</th>\n",
       "      <th>lead_type</th>\n",
       "      <th>won_date</th>\n",
       "      <th>has_company</th>\n",
       "      <th>has_gtin</th>\n",
       "      <th>business_type</th>\n",
       "      <th>first_contact_date</th>\n",
       "      <th>landing_page_id</th>\n",
       "      <th>origin</th>\n",
       "    </tr>\n",
       "  </thead>\n",
       "  <tbody>\n",
       "    <tr>\n",
       "      <th>0</th>\n",
       "      <td>5420aad7fec3549a85876ba1c529bd84</td>\n",
       "      <td>pet</td>\n",
       "      <td>online_medium</td>\n",
       "      <td>2018-02-26</td>\n",
       "      <td>False</td>\n",
       "      <td>False</td>\n",
       "      <td>reseller</td>\n",
       "      <td>2018-02-21</td>\n",
       "      <td>b48ec5f3b04e9068441002a19df93c6c</td>\n",
       "      <td>organic_search</td>\n",
       "    </tr>\n",
       "    <tr>\n",
       "      <th>1</th>\n",
       "      <td>a555fb36b9368110ede0f043dfc3b9a0</td>\n",
       "      <td>car_accessories</td>\n",
       "      <td>industry</td>\n",
       "      <td>2018-05-08</td>\n",
       "      <td>False</td>\n",
       "      <td>False</td>\n",
       "      <td>reseller</td>\n",
       "      <td>2018-04-04</td>\n",
       "      <td>2f08471dfb83baef522f952438a36f6e</td>\n",
       "      <td>referral</td>\n",
       "    </tr>\n",
       "    <tr>\n",
       "      <th>2</th>\n",
       "      <td>327174d3648a2d047e8940d7d15204ca</td>\n",
       "      <td>home_appliances</td>\n",
       "      <td>online_big</td>\n",
       "      <td>2018-06-05</td>\n",
       "      <td>False</td>\n",
       "      <td>False</td>\n",
       "      <td>reseller</td>\n",
       "      <td>2018-04-03</td>\n",
       "      <td>1ceb590cd1e00c7ee95220971f82693d</td>\n",
       "      <td>organic_search</td>\n",
       "    </tr>\n",
       "    <tr>\n",
       "      <th>3</th>\n",
       "      <td>f5fee8f7da74f4887f5bcae2bafb6dd6</td>\n",
       "      <td>food_drink</td>\n",
       "      <td>online_small</td>\n",
       "      <td>2018-01-17</td>\n",
       "      <td>False</td>\n",
       "      <td>False</td>\n",
       "      <td>reseller</td>\n",
       "      <td>2018-01-14</td>\n",
       "      <td>22c29808c4f815213303f8933030604c</td>\n",
       "      <td>paid_search</td>\n",
       "    </tr>\n",
       "    <tr>\n",
       "      <th>4</th>\n",
       "      <td>ffe640179b554e295c167a2f6be528e0</td>\n",
       "      <td>home_appliances</td>\n",
       "      <td>industry</td>\n",
       "      <td>2018-07-03</td>\n",
       "      <td>False</td>\n",
       "      <td>False</td>\n",
       "      <td>manufacturer</td>\n",
       "      <td>2017-10-09</td>\n",
       "      <td>a0fbc0263cb98bdb0d72b9f9f283a172</td>\n",
       "      <td>unknown</td>\n",
       "    </tr>\n",
       "    <tr>\n",
       "      <th>...</th>\n",
       "      <td>...</td>\n",
       "      <td>...</td>\n",
       "      <td>...</td>\n",
       "      <td>...</td>\n",
       "      <td>...</td>\n",
       "      <td>...</td>\n",
       "      <td>...</td>\n",
       "      <td>...</td>\n",
       "      <td>...</td>\n",
       "      <td>...</td>\n",
       "    </tr>\n",
       "    <tr>\n",
       "      <th>820</th>\n",
       "      <td>df9a2abe2ad3f2d8758b675ac8331ecf</td>\n",
       "      <td>home_decor</td>\n",
       "      <td>offline</td>\n",
       "      <td>2018-08-01</td>\n",
       "      <td>False</td>\n",
       "      <td>False</td>\n",
       "      <td>reseller</td>\n",
       "      <td>2018-03-28</td>\n",
       "      <td>a7982125ff7aa3b2054c6e44f9d28522</td>\n",
       "      <td>organic_search</td>\n",
       "    </tr>\n",
       "    <tr>\n",
       "      <th>821</th>\n",
       "      <td>8723201570415eb23b4f095d8c20a27c</td>\n",
       "      <td>construction_tools_house_garden</td>\n",
       "      <td>online_big</td>\n",
       "      <td>2018-09-27</td>\n",
       "      <td>False</td>\n",
       "      <td>False</td>\n",
       "      <td>reseller</td>\n",
       "      <td>2018-05-18</td>\n",
       "      <td>b76ef37428e6799c421989521c0e5077</td>\n",
       "      <td>organic_search</td>\n",
       "    </tr>\n",
       "    <tr>\n",
       "      <th>822</th>\n",
       "      <td>2e57665b8faf05c967a801eb5aedfa0a</td>\n",
       "      <td>computers</td>\n",
       "      <td>online_medium</td>\n",
       "      <td>2018-06-06</td>\n",
       "      <td>False</td>\n",
       "      <td>False</td>\n",
       "      <td>reseller</td>\n",
       "      <td>2018-05-25</td>\n",
       "      <td>40dec9f3d5259a3d2dbcdab2114fae47</td>\n",
       "      <td>paid_search</td>\n",
       "    </tr>\n",
       "    <tr>\n",
       "      <th>823</th>\n",
       "      <td>40955be51cc85c5a5a6cdd12b19e9f10</td>\n",
       "      <td>pet</td>\n",
       "      <td>online_beginner</td>\n",
       "      <td>2018-03-06</td>\n",
       "      <td>False</td>\n",
       "      <td>False</td>\n",
       "      <td>reseller</td>\n",
       "      <td>2018-02-04</td>\n",
       "      <td>88740e65d5d6b056e0cda098e1ea6313</td>\n",
       "      <td>social</td>\n",
       "    </tr>\n",
       "    <tr>\n",
       "      <th>824</th>\n",
       "      <td>8a6492305a5fbcdcdd1a7f5a90764c07</td>\n",
       "      <td>household_utilities</td>\n",
       "      <td>industry</td>\n",
       "      <td>2018-05-02</td>\n",
       "      <td>False</td>\n",
       "      <td>False</td>\n",
       "      <td>manufacturer</td>\n",
       "      <td>2018-01-11</td>\n",
       "      <td>b76ef37428e6799c421989521c0e5077</td>\n",
       "      <td>direct_traffic</td>\n",
       "    </tr>\n",
       "  </tbody>\n",
       "</table>\n",
       "<p>825 rows × 10 columns</p>\n",
       "</div>"
      ],
      "text/plain": [
       "                               mql_id                 business_segment  \\\n",
       "0    5420aad7fec3549a85876ba1c529bd84                              pet   \n",
       "1    a555fb36b9368110ede0f043dfc3b9a0                  car_accessories   \n",
       "2    327174d3648a2d047e8940d7d15204ca                  home_appliances   \n",
       "3    f5fee8f7da74f4887f5bcae2bafb6dd6                       food_drink   \n",
       "4    ffe640179b554e295c167a2f6be528e0                  home_appliances   \n",
       "..                                ...                              ...   \n",
       "820  df9a2abe2ad3f2d8758b675ac8331ecf                       home_decor   \n",
       "821  8723201570415eb23b4f095d8c20a27c  construction_tools_house_garden   \n",
       "822  2e57665b8faf05c967a801eb5aedfa0a                        computers   \n",
       "823  40955be51cc85c5a5a6cdd12b19e9f10                              pet   \n",
       "824  8a6492305a5fbcdcdd1a7f5a90764c07              household_utilities   \n",
       "\n",
       "           lead_type   won_date  has_company  has_gtin business_type  \\\n",
       "0      online_medium 2018-02-26        False     False      reseller   \n",
       "1           industry 2018-05-08        False     False      reseller   \n",
       "2         online_big 2018-06-05        False     False      reseller   \n",
       "3       online_small 2018-01-17        False     False      reseller   \n",
       "4           industry 2018-07-03        False     False  manufacturer   \n",
       "..               ...        ...          ...       ...           ...   \n",
       "820          offline 2018-08-01        False     False      reseller   \n",
       "821       online_big 2018-09-27        False     False      reseller   \n",
       "822    online_medium 2018-06-06        False     False      reseller   \n",
       "823  online_beginner 2018-03-06        False     False      reseller   \n",
       "824         industry 2018-05-02        False     False  manufacturer   \n",
       "\n",
       "    first_contact_date                   landing_page_id          origin  \n",
       "0           2018-02-21  b48ec5f3b04e9068441002a19df93c6c  organic_search  \n",
       "1           2018-04-04  2f08471dfb83baef522f952438a36f6e        referral  \n",
       "2           2018-04-03  1ceb590cd1e00c7ee95220971f82693d  organic_search  \n",
       "3           2018-01-14  22c29808c4f815213303f8933030604c     paid_search  \n",
       "4           2017-10-09  a0fbc0263cb98bdb0d72b9f9f283a172         unknown  \n",
       "..                 ...                               ...             ...  \n",
       "820         2018-03-28  a7982125ff7aa3b2054c6e44f9d28522  organic_search  \n",
       "821         2018-05-18  b76ef37428e6799c421989521c0e5077  organic_search  \n",
       "822         2018-05-25  40dec9f3d5259a3d2dbcdab2114fae47     paid_search  \n",
       "823         2018-02-04  88740e65d5d6b056e0cda098e1ea6313          social  \n",
       "824         2018-01-11  b76ef37428e6799c421989521c0e5077  direct_traffic  \n",
       "\n",
       "[825 rows x 10 columns]"
      ]
     },
     "execution_count": 32,
     "metadata": {},
     "output_type": "execute_result"
    }
   ],
   "source": [
    "merged_df = pd.merge(cleaned_deals, cleaned_leads, on=['mql_id'], how='left')\n",
    "\n",
    "merged_df"
   ]
  },
  {
   "cell_type": "markdown",
   "id": "69533dae",
   "metadata": {},
   "source": [
    "<a id='update'></a>\n",
    "## 4. Update the data store"
   ]
  },
  {
   "cell_type": "code",
   "execution_count": 33,
   "id": "efabe0cb",
   "metadata": {},
   "outputs": [],
   "source": [
    "# Saving raw data\n",
    "leads.to_csv('raw_leads.csv', index=False, encoding=\"utf-8\")"
   ]
  },
  {
   "cell_type": "code",
   "execution_count": 34,
   "id": "2dd63616",
   "metadata": {},
   "outputs": [],
   "source": [
    "# Saving cleaned data\n",
    "cleaned_deals.to_csv('deals_cleaned.csv', index=False, encoding=\"utf-8\")\n",
    "cleaned_leads.to_csv('leads_cleaned.csv', index=False, encoding=\"utf-8\")"
   ]
  },
  {
   "cell_type": "code",
   "execution_count": 35,
   "id": "3995a198",
   "metadata": {},
   "outputs": [],
   "source": [
    "# Saving the new dataframe into csv file\n",
    "merged_df.to_csv('deals_and_leads_cleaned.csv', index=False, encoding=\"utf-8\")"
   ]
  },
  {
   "cell_type": "markdown",
   "id": "7f1b82e2",
   "metadata": {},
   "source": [
    "<a id='ans'></a>\n",
    "## 5. Answer the research question"
   ]
  },
  {
   "cell_type": "markdown",
   "id": "70163ae6",
   "metadata": {},
   "source": [
    "### Q: does the leads of Olist store has big qualifications like copmanies and (GTIN) Global Trade Item Number?\n",
    "\n",
    "To answer this question we need to count how many leads have companies and GTIN, how many true are there in these columns"
   ]
  },
  {
   "cell_type": "code",
   "execution_count": 36,
   "id": "6385c3c5",
   "metadata": {},
   "outputs": [
    {
     "data": {
      "text/plain": [
       "(63, 3)"
      ]
     },
     "execution_count": 36,
     "metadata": {},
     "output_type": "execute_result"
    }
   ],
   "source": [
    "new_df = merged_df[(merged_df.has_company == True) | (merged_df.has_gtin == True)][['mql_id', 'has_company', 'has_gtin']]\n",
    "\n",
    "new_df.shape"
   ]
  },
  {
   "cell_type": "markdown",
   "id": "e11b0336",
   "metadata": {},
   "source": [
    "**Answer** there is only 63 lead has a company or a GTIN and this is a very small number comparing to the number of all leads."
   ]
  },
  {
   "cell_type": "code",
   "execution_count": 37,
   "id": "f794e8f5",
   "metadata": {},
   "outputs": [
    {
     "data": {
      "image/png": "[encoded data removed]",
      "text/plain": [
       "<Figure size 640x480 with 1 Axes>"
      ]
     },
     "metadata": {},
     "output_type": "display_data"
    }
   ],
   "source": [
    "bool_counts = merged_df['has_company'].value_counts()\n",
    "\n",
    "# Plotting\n",
    "bool_counts.plot(kind='bar', color=['red', 'blue'])\n",
    "plt.title('Count of True and False values')\n",
    "plt.xlabel('Value')\n",
    "plt.ylabel('Count')\n",
    "plt.xticks(rotation=0)\n",
    "plt.show()"
   ]
  },
  {
   "cell_type": "code",
   "execution_count": 38,
   "id": "708388c5",
   "metadata": {},
   "outputs": [
    {
     "data": {
      "image/png": "[encoded data removed]",
      "text/plain": [
       "<Figure size 640x480 with 1 Axes>"
      ]
     },
     "metadata": {},
     "output_type": "display_data"
    }
   ],
   "source": [
    "bool_counts = merged_df['has_gtin'].value_counts()\n",
    "\n",
    "# Plotting\n",
    "bool_counts.plot(kind='pie', autopct='%1.1f%%', colors=['red', 'blue'])\n",
    "plt.title('Proportion of True and False values')\n",
    "plt.show()"
   ]
  },
  {
   "cell_type": "markdown",
   "id": "bf0e6ee8",
   "metadata": {},
   "source": [
    "these plots shows how it's very small part of the leads having companies and GTINs."
   ]
  },
  {
   "cell_type": "markdown",
   "id": "fdb7476b",
   "metadata": {},
   "source": [
    "<a id='fut'></a>\n",
    "### 6. Future Work"
   ]
  },
  {
   "cell_type": "markdown",
   "id": "2338681d",
   "metadata": {},
   "source": [
    "If I had more time to explore these data sets i will estimate the time the Olist store takes to close the deal with the lead, by estimating the time taken from the `first_contact_date` column to the `won_date` column, i would also explore the business types of the leads."
   ]
  }
 ],
 "metadata": {
  "kernelspec": {
   "display_name": "Python 3 (ipykernel)",
   "language": "python",
   "name": "python3"
  },
  "language_info": {
   "codemirror_mode": {
    "name": "ipython",
    "version": 3
   },
   "file_extension": ".py",
   "mimetype": "text/x-python",
   "name": "python",
   "nbconvert_exporter": "python",
   "pygments_lexer": "ipython3",
   "version": "3.11.5"
  }
 },
 "nbformat": 4,
 "nbformat_minor": 5
}
